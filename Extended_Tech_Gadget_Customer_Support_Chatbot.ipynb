{
  "nbformat": 4,
  "nbformat_minor": 0,
  "metadata": {
    "colab": {
      "provenance": [],
      "authorship_tag": "ABX9TyO1/5+iOqj3xKZKwf8HNv61",
      "include_colab_link": true
    },
    "kernelspec": {
      "name": "python3",
      "display_name": "Python 3"
    },
    "language_info": {
      "name": "python"
    }
  },
  "cells": [
    {
      "cell_type": "markdown",
      "metadata": {
        "id": "view-in-github",
        "colab_type": "text"
      },
      "source": [
        "<a href=\"https://colab.research.google.com/github/ChiNonsoHenry16/ChiNonsoHenry16/blob/main/Extended_Tech_Gadget_Customer_Support_Chatbot.ipynb\" target=\"_parent\"><img src=\"https://colab.research.google.com/assets/colab-badge.svg\" alt=\"Open In Colab\"/></a>"
      ]
    },
    {
      "cell_type": "markdown",
      "source": [
        "## Udacity Generative AI with AWS Project\n",
        "\n",
        "A much improved, feature-rich Customer Support Chatbot with FAQ Detection (with more robust keyword matching), Small Talk Handling, Order Tracking Simulation, Feedback Collection, Product Recommendation (simulated)\n",
        "Help Menu, Logs Chat for future analysis, Graceful Exit and Polite Conversations and Extensible for future APIs or enhancements.\n",
        "\n",
        "## SUMMARY\n",
        "\n",
        "This chatbot is a simple virtual assistant designed to help customers with their basic questions and support needs. When a user types something into the chat, the chatbot tries to understand their request, whether it’s tracking an order, asking about shipping times, learning how to return a product, or seeking recommendations for a new gadget. The chatbot responds in a friendly, polite way, giving helpful answers instantly and even making product suggestions from its virtual catalog. If a user just wants to chat or asks for a joke, the bot can do that too, making the experience more conversational and enjoyable. For those unsure what to ask, the chatbot can show a help menu, and it’s also ready to collect feedback from users. At the end of each conversation, it saves a record of the entire chat so conversations can be reviewed later. This means the chatbot is not only practical for answering common support questions but is also user-friendly, interactive, and easy to expand.\n",
        "\n",
        "## Exiting the ChatBot\n",
        "The chatbot is designed to run continuously so users can ask as many questions as they like. The only way to exit the chat loop is by typing a specific keyword such as \"quit\", \"exit\", or \"bye\". When the chatbot detects any of these words, it responds with a farewell, breaks the loop, and ends the chat session."
      ],
      "metadata": {
        "id": "XEIdnF0Qf0SS"
      }
    },
    {
      "cell_type": "markdown",
      "source": [
        "# Import necessary libraries"
      ],
      "metadata": {
        "id": "7RzpAsVQgzO_"
      }
    },
    {
      "cell_type": "code",
      "source": [
        "import datetime\n",
        "import random"
      ],
      "metadata": {
        "id": "jnKhUPnBgsJn"
      },
      "execution_count": 1,
      "outputs": []
    },
    {
      "cell_type": "markdown",
      "source": [
        "# Response Libraries for Frequently Asked Questions (FAQ)"
      ],
      "metadata": {
        "id": "HzH7LK9Lg304"
      }
    },
    {
      "cell_type": "code",
      "source": [
        "# Predefined responses dictionary (improved keywords and answers)\n",
        "FAQ_RESPONSES = {\n",
        "    \"hi\":                  \"Hello! Welcome to TechGadget Support. How can I assist you today?\",\n",
        "    \"hello\":               \"Hi there! How can I help you with your gadgets?\",\n",
        "    \"smartwatch\":          \"Yes, we have several smartwatches! Would you like a recommendation?\",\n",
        "    \"shipping time\":       \"Shipping usually takes 3-5 business days.\",\n",
        "    \"shipping method\":     \"We offer standard, expedited, and overnight shipping.\",\n",
        "    \"return policy\":       \"You can return products within 30 days of receipt for a full refund. Want help with a return?\",\n",
        "    \"how to return\":       \"To return a product, please visit our returns page for a step-by-step guide.\",\n",
        "    \"won’t turn on\":       \"Make sure your gadget is charged. If it still won’t turn on, you can visit our troubleshooting page.\",\n",
        "    \"reset device\":        \"To reset your device, hold down the power button for 10 seconds. If that doesn't work, please check the manual for a factory reset.\",\n",
        "    \"price\":               \"Do you want a price for a specific item? Please tell me its name.\",\n",
        "    \"recommend\":           \"What kind of gadget are you interested in? (e.g., phone, smartwatch, headphones)\",\n",
        "    \"bye\":                 \"Thank you for visiting TechGadget. If you have more questions, feel free to ask. Goodbye!\"\n",
        "}"
      ],
      "metadata": {
        "id": "ltHh58KagvNf"
      },
      "execution_count": 2,
      "outputs": []
    },
    {
      "cell_type": "markdown",
      "source": [
        "# Catalog for recommendation"
      ],
      "metadata": {
        "id": "og4if7OghYYr"
      }
    },
    {
      "cell_type": "code",
      "source": [
        "PRODUCTS = {\n",
        "    \"phone\": [\"Galaxy S24\", \"iPhone 15 Pro\", \"Pixel 8\"],\n",
        "    \"smartwatch\": [\"Fitbit Versa 4\", \"Apple Watch Series 9\", \"Galaxy Watch 6\"],\n",
        "    \"headphones\": [\"Sony WH-1000XM5\", \"AirPods Pro 2\", \"Bose QC45\"]\n",
        "}"
      ],
      "metadata": {
        "id": "zt6iLlnBhZQ8"
      },
      "execution_count": 3,
      "outputs": []
    },
    {
      "cell_type": "markdown",
      "source": [
        "# Help Menu"
      ],
      "metadata": {
        "id": "Z5n_sszViXuT"
      }
    },
    {
      "cell_type": "code",
      "source": [
        "def show_help():\n",
        "    return (\n",
        "        \"I can help you with:\\n\"\n",
        "        \"- Order tracking (type: track order <order_id>)\\n\"\n",
        "        \"- Shipping details\\n\"\n",
        "        \"- Returns & policies\\n\"\n",
        "        \"- Product recommendations\\n\"\n",
        "        \"- Troubleshooting\\n\"\n",
        "        \"- Telling you a joke or having a chat (!)\\n\"\n",
        "        \"- Type 'help' any time to see this menu.\\n\"\n",
        "        \"- Type 'feedback' to leave feedback.\\n\"\n",
        "        \"- Type 'exit' or 'bye' to leave.\\n\"\n",
        "    )"
      ],
      "metadata": {
        "id": "GpL3701QibPy"
      },
      "execution_count": 4,
      "outputs": []
    },
    {
      "cell_type": "markdown",
      "source": [
        "#Small Talks"
      ],
      "metadata": {
        "id": "Otc-IbStinLT"
      }
    },
    {
      "cell_type": "code",
      "source": [
        "def get_greeting():\n",
        "    greetings = [\n",
        "        \"Hello! How can I assist you today?\",\n",
        "        \"Hi there! Need help with something?\",\n",
        "        \"Welcome! What would you like to know about our gadgets?\",\n",
        "        \"Hi! How can I help you?\"\n",
        "    ]\n",
        "    return random.choice(greetings)\n",
        "\n",
        "def get_farewell():\n",
        "    farewells = [\n",
        "        \"Thank you for visiting TechGadget. Goodbye!\",\n",
        "        \"Hope I could help you. Bye!\",\n",
        "        \"Have a great day! Come back if you need anything else.\",\n",
        "        \"Goodbye! If you have more questions, we're here to help.\"\n",
        "    ]\n",
        "    return random.choice(farewells)\n",
        "\n",
        "def tell_joke():\n",
        "    jokes = [\n",
        "        \"Why did the computer show up late to work? It had a hard drive!\",\n",
        "        \"Why was the smartphone wearing glasses? Because it lost its contacts.\",\n",
        "        \"Why did the gadget break up with its charger? It couldn't connect!\"\n",
        "    ]\n",
        "    return random.choice(jokes)"
      ],
      "metadata": {
        "id": "ty9W3uQviqOM"
      },
      "execution_count": 5,
      "outputs": []
    },
    {
      "cell_type": "markdown",
      "source": [
        "# Getting Responses from the ChatBot"
      ],
      "metadata": {
        "id": "8RvRrA3Mi3C1"
      }
    },
    {
      "cell_type": "code",
      "execution_count": 7,
      "metadata": {
        "colab": {
          "base_uri": "https://localhost:8080/"
        },
        "id": "4ZmWPbK6UmP0",
        "outputId": "58c65eee-3968-472b-9698-6d14c41af0ff"
      },
      "outputs": [
        {
          "output_type": "stream",
          "name": "stdout",
          "text": [
            "Welcome! What would you like to know about our gadgets?\n",
            "Type 'help' for options or 'exit' to quit.\n",
            "You: help\n",
            "Bot: I can help you with:\n",
            "- Order tracking (type: track order <order_id>)\n",
            "- Shipping details\n",
            "- Returns & policies\n",
            "- Product recommendations\n",
            "- Troubleshooting\n",
            "- Telling you a joke or having a chat (!)\n",
            "- Type 'help' any time to see this menu.\n",
            "- Type 'feedback' to leave feedback.\n",
            "- Type 'exit' or 'bye' to leave.\n",
            "\n",
            "You: feedback\n",
            "Bot: Please type your feedback. We value your opinion: product recommendations\n",
            "Bot: Thank you for your feedback! We appreciate your help improving our service.\n",
            "You: order tracking \n",
            "Bot: I'm not sure how to respond to that. You can type 'help' for options, 'feedback' to leave feedback, or ask about our products, shipping, or returns!\n",
            "You: help\n",
            "Bot: I can help you with:\n",
            "- Order tracking (type: track order <order_id>)\n",
            "- Shipping details\n",
            "- Returns & policies\n",
            "- Product recommendations\n",
            "- Troubleshooting\n",
            "- Telling you a joke or having a chat (!)\n",
            "- Type 'help' any time to see this menu.\n",
            "- Type 'feedback' to leave feedback.\n",
            "- Type 'exit' or 'bye' to leave.\n",
            "\n",
            "You: Shipping details\n",
            "Bot: Hello! Welcome to TechGadget Support. How can I assist you today?\n",
            "You: won't turn on\n",
            "Bot: I'm not sure how to respond to that. You can type 'help' for options, 'feedback' to leave feedback, or ask about our products, shipping, or returns!\n",
            "You: how are you\n",
            "Bot: I'm just a bot, but I'm always glad to help! 😊\n",
            "You: whats up\n",
            "Bot: I'm not sure how to respond to that. You can type 'help' for options, 'feedback' to leave feedback, or ask about our products, shipping, or returns!\n",
            "You: help\n",
            "Bot: I can help you with:\n",
            "- Order tracking (type: track order <order_id>)\n",
            "- Shipping details\n",
            "- Returns & policies\n",
            "- Product recommendations\n",
            "- Troubleshooting\n",
            "- Telling you a joke or having a chat (!)\n",
            "- Type 'help' any time to see this menu.\n",
            "- Type 'feedback' to leave feedback.\n",
            "- Type 'exit' or 'bye' to leave.\n",
            "\n",
            "You: feedback\n",
            "Bot: Please type your feedback. We value your opinion: Thank you\n",
            "Bot: Thank you for your feedback! We appreciate your help improving our service.\n",
            "You: You are not of much help, what can i do\n",
            "Bot: I'm not sure how to respond to that. You can type 'help' for options, 'feedback' to leave feedback, or ask about our products, shipping, or returns!\n",
            "You: feedback\n",
            "Bot: Please type your feedback. We value your opinion: You are not of much help, what can i do\n",
            "Bot: Thank you for your feedback! We appreciate your help improving our service.\n",
            "You: exit\n",
            "Bot: Thank you for visiting TechGadget. Goodbye!\n",
            "Chat log saved. Thank you for chatting with TechGadget Support!\n"
          ]
        }
      ],
      "source": [
        "def get_bot_response(user_input, chat_log):\n",
        "    text = user_input.lower().strip()\n",
        "\n",
        "    # Help menu\n",
        "    if text in [\"help\", \"menu\"]:\n",
        "        return show_help()\n",
        "    if text in [\"joke\", \"fun\", \"tell me a joke\"]:\n",
        "        return tell_joke()\n",
        "\n",
        "    # Feedback collection\n",
        "    if text == \"feedback\":\n",
        "        feedback = input(\"Bot: Please type your feedback. We value your opinion: \")\n",
        "        chat_log.append(f\"[Feedback] {feedback}\")\n",
        "        return \"Thank you for your feedback! We appreciate your help improving our service.\"\n",
        "\n",
        "    # FAQ matching (robust)\n",
        "    for keyword in FAQ_RESPONSES:\n",
        "        if keyword in text:\n",
        "            if keyword == \"recommend\":\n",
        "                return recommend_product(text)\n",
        "            return FAQ_RESPONSES[keyword]\n",
        "\n",
        "    # Order tracking feature (mocked)\n",
        "    if text.startswith(\"track order\"):\n",
        "        order_id = text.replace(\"track order\", \"\").strip()\n",
        "        if order_id.isdigit():\n",
        "            return f\"Order #{order_id} is currently in transit. Estimated delivery: {random.randint(1,5)} days.\"\n",
        "        else:\n",
        "            return \"Please provide a valid order number. Usage: track order 123456\"\n",
        "\n",
        "    # Product recommendation (simple logic)\n",
        "    if \"recommend\" in text or \"suggest\" in text:\n",
        "        for prod in PRODUCTS:\n",
        "            if prod in text:\n",
        "                suggestion = random.choice(PRODUCTS[prod])\n",
        "                return f\"Our top {prod} is the {suggestion}. Would you like more details?\"\n",
        "        return \"What type of gadget do you want a recommendation for? (phone, smartwatch, headphones)\"\n",
        "\n",
        "    # Small talk\n",
        "    if text in [\"how are you?\", \"how are you\", \"what's up\"]:\n",
        "        return \"I'm just a bot, but I'm always glad to help! 😊\"\n",
        "    if text in [\"who are you?\", \"who are you\"]:\n",
        "        return \"I'm TechGadget's virtual support assistant! Here to help 24/7.\"\n",
        "    if text in [\"thank you\", \"thanks\"]:\n",
        "        return \"You're welcome! If you have any other questions, just ask.\"\n",
        "    if text in [\"bye\", \"goodbye\", \"exit\", \"quit\"]:\n",
        "        return get_farewell()\n",
        "\n",
        "    return (\n",
        "        \"I'm not sure how to respond to that. \"\n",
        "        \"You can type 'help' for options, 'feedback' to leave feedback, or ask about our products, shipping, or returns!\"\n",
        "    )\n",
        "\n",
        "def recommend_product(text):\n",
        "    for prod in PRODUCTS:\n",
        "        if prod in text:\n",
        "            suggestion = random.choice(PRODUCTS[prod])\n",
        "            return f\"Our top {prod} is the {suggestion}. Would you like more details?\"\n",
        "    return \"What kind of gadget are you interested in? (phone, smartwatch, headphones)\"\n",
        "\n",
        "def main():\n",
        "    print(get_greeting())\n",
        "    print(\"Type 'help' for options or 'exit' to quit.\")\n",
        "    chat_log = []\n",
        "    while True:\n",
        "        user_input = input(\"You: \")\n",
        "        chat_log.append(\"[User] \" + user_input)\n",
        "        if user_input.lower().strip() in [\"quit\", \"exit\", \"bye\"]:\n",
        "            bot_response = get_farewell()\n",
        "            print(f\"Bot: {bot_response}\")\n",
        "            chat_log.append(\"[Bot] \" + bot_response)\n",
        "            break\n",
        "        response = get_bot_response(user_input, chat_log)\n",
        "        print(f\"Bot: {response}\")\n",
        "        chat_log.append(\"[Bot] \" + response)\n",
        "    # Save chat log to a file\n",
        "    now = datetime.datetime.now().strftime(\"%Y%m%d_%H%M%S\")\n",
        "    with open(f\"customer_chatbot_log_{now}.txt\", \"w\") as f:\n",
        "        for line in chat_log:\n",
        "            f.write(line + \"\\n\")\n",
        "    print(\"Chat log saved. Thank you for chatting with TechGadget Support!\")\n",
        "\n",
        "if __name__ == \"__main__\":\n",
        "    main()"
      ]
    }
  ]
}